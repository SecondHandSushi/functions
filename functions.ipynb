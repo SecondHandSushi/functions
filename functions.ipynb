{
 "cells": [
  {
   "cell_type": "code",
   "execution_count": 2,
   "metadata": {},
   "outputs": [],
   "source": [
    "from sklearn.ensemble import RandomForestClassifier\n",
    "from sklearn.preprocessing import StandardScaler\n",
    "from sklearn.model_selection import train_test_split\n",
    "\n",
    "def rand_forst_predict (df,feature_column, estimators):\n",
    "    X = df.copy()\n",
    "    X.drop(feature_column, axis=1, inplace=True)\n",
    "    X.head()\n",
    "    y = df[feature_column].values.reshape(-1, 1)\n",
    "    X_train, X_test, y_train, y_test = train_test_split(X, y, random_state=617, stratify=y)\n",
    "    scaler = StandardScaler()\n",
    "    X_scaler = scaler.fit(X_train)\n",
    "    X_train_scaled=X_scaler.transform(X_train)\n",
    "    X_test_scaled=X_scaler.transform(X_test)\n",
    "    rf_model = RandomForestClassifier(n_estimators=estimators, random_state=617)\n",
    "    rf_model = rf_model.fit(X_train_scaled, y_train.ravel())\n",
    "    y_predict = rf_model.predict(X_test_scaled)\n",
    "    return y_predict, X_train, X_test, y_train, y_test"
   ]
  },
  {
   "cell_type": "code",
   "execution_count": 3,
   "metadata": {},
   "outputs": [],
   "source": [
    "import pandas as pd\n",
    "from sklearn.metrics import confusion_matrix, accuracy_score, classification_report\n",
    "\n",
    "def conf_matr(y_test,y_predict):\n",
    "    cm_df = pd.DataFrame(\n",
    "        cm, index=[\"Actual 0\", \"Actual 1\"], columns=[\"Predicted 0\", \"Predicted 1\"]\n",
    "    )\n",
    "    # Calculating the accuracy score\n",
    "    acc_score = accuracy_score(y_test, y_predict)\n",
    "    print(\"Confusion Matrix\")\n",
    "    display(cm_df)\n",
    "    print(f\"Accuracy Score : {acc_score}\")\n",
    "    print(\"Classification Report\")\n",
    "    print(classification_report(y_test, y_predict))\n",
    "    return acc_score"
   ]
  },
  {
   "cell_type": "code",
   "execution_count": null,
   "metadata": {},
   "outputs": [],
   "source": [
    "# Needed for decision tree visualization\n",
    "import pydotplus\n",
    "from IPython.display import Image"
   ]
  },
  {
   "cell_type": "code",
   "execution_count": null,
   "metadata": {},
   "outputs": [],
   "source": [
    "def elbow_data_and_plot(df):\n",
    "    inertia = []\n",
    "    k = list(range(1, 11))\n",
    "    for i in k:\n",
    "        k_model = KMeans(n_clusters=i, random_state=1, n_init=10)\n",
    "        k_model.fit(df)\n",
    "        inertia.append(k_model.inertia_)\n",
    "    elbow_data = {\"k\": k, \"inertia\": inertia}\n",
    "    elbow_df = pd.DataFrame(elbow_data)\n",
    "    plot=elbow_df.hvplot.line(\n",
    "        x=\"k\", \n",
    "        y=\"inertia\", \n",
    "        title=\"Elbow Curve\", \n",
    "        xticks=k\n",
    "    )\n",
    "    plot.opts(xlabel='Number of clusters (k)', ylabel='Inertia')\n",
    "    return elbow_df, plot\n",
    "\n",
    "#elbow_df, elbow_plot = elbow_data(df)\n",
    "#elbow_plot"
   ]
  },
  {
   "cell_type": "code",
   "execution_count": null,
   "metadata": {},
   "outputs": [],
   "source": [
    "def kmeans_elbow_data(df):\n",
    "    inertia = []\n",
    "    k = list(range(1, 11))\n",
    "    for i in k:\n",
    "        k_model = KMeans(n_clusters=i, random_state=1, n_init=10)\n",
    "        k_model.fit(df)\n",
    "        inertia.append(k_model.inertia_)\n",
    "    elbow_data = {\"k\": k, \"inertia\": inertia}\n",
    "    elbow_df = pd.DataFrame(elbow_data)\n",
    "    return elbow_df\n",
    "\n",
    "#elbow_df, elbow_plot = elbow_data(df)\n",
    "#elbow_plot"
   ]
  },
  {
   "cell_type": "code",
   "execution_count": null,
   "metadata": {},
   "outputs": [],
   "source": [
    "import hvplot.pandas\n",
    "# Plot the Elbow Curve\n",
    "def elbow_plot(df):\n",
    "    plot=df.hvplot.line(\n",
    "        x=\"k\", \n",
    "        y=\"inertia\", \n",
    "        title=\"Elbow Curve\", \n",
    "        xticks=k\n",
    "    )\n",
    "    return plot"
   ]
  },
  {
   "cell_type": "code",
   "execution_count": null,
   "metadata": {},
   "outputs": [],
   "source": [
    "pca = PCA(n_components=2)\n",
    "# Fit the PCA model on the transformed credit card DataFrame\n",
    "ccinfo_pca = pca.fit_transform(ccinfo_default_df)\n",
    "# Calculate the PCA explained variance ratio\n",
    "pca.explained_variance_ratio_\n",
    "# Create the PCA DataFrame\n",
    "ccinfo_pca_df = pd.DataFrame(\n",
    "    ccinfo_pca,\n",
    "    columns=[\"PCA1\", \"PCA2\"]\n",
    ")\n",
    "# Fit the PCA model on the transformed credit card DataFrame\n",
    "ccinfo_pca = pca.fit_transform(ccinfo_default_df)"
   ]
  }
 ],
 "metadata": {
  "kernelspec": {
   "display_name": "base",
   "language": "python",
   "name": "python3"
  },
  "language_info": {
   "codemirror_mode": {
    "name": "ipython",
    "version": 3
   },
   "file_extension": ".py",
   "mimetype": "text/x-python",
   "name": "python",
   "nbconvert_exporter": "python",
   "pygments_lexer": "ipython3",
   "version": "3.9.15"
  }
 },
 "nbformat": 4,
 "nbformat_minor": 2
}
